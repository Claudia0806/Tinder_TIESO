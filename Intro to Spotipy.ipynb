{
 "cells": [
  {
   "cell_type": "code",
   "execution_count": 23,
   "id": "cccdd4ba",
   "metadata": {},
   "outputs": [],
   "source": [
    "# App credentials\n",
    "import spotipy\n",
    "import requests\n",
    "from spotipy.oauth2 import SpotifyClientCredentials\n",
    "cid = 'bb4434d3f0d4442f853aa1790c985d22'\n",
    "secret = '01691d959f344043b6e8bfac8e560fb8'\n",
    "client_credentials_manager = SpotifyClientCredentials(client_id=cid, client_secret=secret)\n",
    "sp = spotipy.Spotify(client_credentials_manager=client_credentials_manager)"
   ]
  },
  {
   "cell_type": "code",
   "execution_count": null,
   "id": "9d10747a",
   "metadata": {},
   "outputs": [],
   "source": []
  },
  {
   "cell_type": "markdown",
   "id": "25ef6ccd",
   "metadata": {},
   "source": [
    "#### Wtf is OAuth2.0"
   ]
  },
  {
   "cell_type": "code",
   "execution_count": 22,
   "id": "6451cf3c",
   "metadata": {},
   "outputs": [],
   "source": []
  },
  {
   "cell_type": "code",
   "execution_count": null,
   "id": "01774eb7",
   "metadata": {},
   "outputs": [],
   "source": [
    "# Code for retrieving top n songs from user\n",
    "# Chatgpt\n",
    "\n",
    "import requests\n",
    "\n",
    "# Replace YOUR_ACCESS_TOKEN with the actual access token\n",
    "headers = {'Authorization': 'Bearer YOUR_ACCESS_TOKEN'}\n",
    "\n",
    "# Replace N with the number of top songs you want to retrieve\n",
    "params = {'limit': N}\n",
    "\n",
    "response = requests.get('https://api.spotify.com/v1/me/top/tracks', headers=headers, params=params)\n",
    "\n",
    "if response.status_code == 200:\n",
    "    top_tracks = response.json()['items']\n",
    "    for track in top_tracks:\n",
    "        print(track['name'])\n",
    "else:\n",
    "    print('Error:', response.status_code)\n"
   ]
  }
 ],
 "metadata": {
  "kernelspec": {
   "display_name": "Python 3 (ipykernel)",
   "language": "python",
   "name": "python3"
  },
  "language_info": {
   "codemirror_mode": {
    "name": "ipython",
    "version": 3
   },
   "file_extension": ".py",
   "mimetype": "text/x-python",
   "name": "python",
   "nbconvert_exporter": "python",
   "pygments_lexer": "ipython3",
   "version": "3.9.13"
  }
 },
 "nbformat": 4,
 "nbformat_minor": 5
}
